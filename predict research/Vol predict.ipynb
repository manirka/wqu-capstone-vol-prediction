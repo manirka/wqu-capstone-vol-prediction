{
 "cells": [
  {
   "cell_type": "code",
   "execution_count": 1,
   "metadata": {},
   "outputs": [],
   "source": [
    "import os\n",
    "import numpy as np\n",
    "import pandas as pd\n",
    "import scipy.stats as stats\n",
    "import matplotlib.pyplot as plt\n",
    "import seaborn as sns\n",
    "\n",
    "from datetime import datetime\n",
    "from iexfinance.stocks import get_historical_intraday\n",
    "from scipy.stats.mstats import gmean\n",
    "from statsmodels.graphics.tsaplots import plot_acf\n",
    "from statsmodels.tsa.arima_model import ARIMA\n",
    "\n",
    "from pandas.plotting import register_matplotlib_converters\n",
    "register_matplotlib_converters()\n",
    "%matplotlib inline\n",
    "plt.rcParams['figure.figsize'] = [10.0, 6.0]"
   ]
  },
  {
   "cell_type": "code",
   "execution_count": 2,
   "metadata": {},
   "outputs": [
    {
     "data": {
      "text/plain": [
       "'1.3.1'"
      ]
     },
     "execution_count": 2,
     "metadata": {},
     "output_type": "execute_result"
    }
   ],
   "source": [
    "#import sys\n",
    "#!{sys.executable} -m pip install seaborn-qqplot\n",
    "import scipy\n",
    "scipy.__version__"
   ]
  },
  {
   "cell_type": "markdown",
   "metadata": {},
   "source": [
    "# Initial params"
   ]
  },
  {
   "cell_type": "code",
   "execution_count": 8,
   "metadata": {},
   "outputs": [],
   "source": [
    "rollingWindow = 20\n",
    "ticker = 'FB'\n",
    "start = datetime(2019, 1, 1)\n",
    "end = datetime(2019, 12, 31)"
   ]
  },
  {
   "cell_type": "markdown",
   "metadata": {},
   "source": [
    "# Loading intraday data"
   ]
  },
  {
   "cell_type": "code",
   "execution_count": 9,
   "metadata": {},
   "outputs": [
    {
     "name": "stdout",
     "output_type": "stream",
     "text": [
      "Target file path ../data/intraday/FB_intraday.2019-01-01_2019-12-31.pkl\n",
      "Loaded intraday data from ../data/intraday/FB_intraday.2019-01-01_2019-12-31.pkl\n"
     ]
    },
    {
     "data": {
      "text/html": [
       "<div>\n",
       "<style scoped>\n",
       "    .dataframe tbody tr th:only-of-type {\n",
       "        vertical-align: middle;\n",
       "    }\n",
       "\n",
       "    .dataframe tbody tr th {\n",
       "        vertical-align: top;\n",
       "    }\n",
       "\n",
       "    .dataframe thead th {\n",
       "        text-align: right;\n",
       "    }\n",
       "</style>\n",
       "<table border=\"1\" class=\"dataframe\">\n",
       "  <thead>\n",
       "    <tr style=\"text-align: right;\">\n",
       "      <th></th>\n",
       "      <th>date</th>\n",
       "      <th>open</th>\n",
       "      <th>close</th>\n",
       "      <th>volume</th>\n",
       "    </tr>\n",
       "  </thead>\n",
       "  <tbody>\n",
       "    <tr>\n",
       "      <th>2019-04-01 09:30:00</th>\n",
       "      <td>2019-04-01</td>\n",
       "      <td>167.830</td>\n",
       "      <td>167.870</td>\n",
       "      <td>318566</td>\n",
       "    </tr>\n",
       "    <tr>\n",
       "      <th>2019-04-01 09:31:00</th>\n",
       "      <td>2019-04-01</td>\n",
       "      <td>167.935</td>\n",
       "      <td>168.250</td>\n",
       "      <td>68135</td>\n",
       "    </tr>\n",
       "    <tr>\n",
       "      <th>2019-04-01 09:32:00</th>\n",
       "      <td>2019-04-01</td>\n",
       "      <td>168.270</td>\n",
       "      <td>168.270</td>\n",
       "      <td>126594</td>\n",
       "    </tr>\n",
       "    <tr>\n",
       "      <th>2019-04-01 09:33:00</th>\n",
       "      <td>2019-04-01</td>\n",
       "      <td>168.265</td>\n",
       "      <td>168.035</td>\n",
       "      <td>48753</td>\n",
       "    </tr>\n",
       "    <tr>\n",
       "      <th>2019-04-01 09:34:00</th>\n",
       "      <td>2019-04-01</td>\n",
       "      <td>168.030</td>\n",
       "      <td>168.140</td>\n",
       "      <td>71750</td>\n",
       "    </tr>\n",
       "  </tbody>\n",
       "</table>\n",
       "</div>"
      ],
      "text/plain": [
       "                          date     open    close  volume\n",
       "2019-04-01 09:30:00 2019-04-01  167.830  167.870  318566\n",
       "2019-04-01 09:31:00 2019-04-01  167.935  168.250   68135\n",
       "2019-04-01 09:32:00 2019-04-01  168.270  168.270  126594\n",
       "2019-04-01 09:33:00 2019-04-01  168.265  168.035   48753\n",
       "2019-04-01 09:34:00 2019-04-01  168.030  168.140   71750"
      ]
     },
     "execution_count": 9,
     "metadata": {},
     "output_type": "execute_result"
    }
   ],
   "source": [
    "path = f'../data/intraday/{ticker}_intraday.{start.strftime(\"%Y-%m-%d\")}_{end.strftime(\"%Y-%m-%d\")}.pkl'\n",
    "print(f'Target file path {path}')\n",
    "if os.path.exists(path):\n",
    "    print(f\"Loaded intraday data from {path}\")\n",
    "    intraday = pd.read_pickle(path)\n",
    "else:\n",
    "    conf = input(\"Confirm loading from IEX? [Y,N] \")\n",
    "    if conf.strip().upper()=='Y':\n",
    "        os.environ['IEX_TOKEN'] = 'pk_70373470bd234060b26da8e689b8c47f' # insert your API key\n",
    "        dfs = []\n",
    "\n",
    "        for dt in pd.date_range(start, end, freq='B'):\n",
    "            print(f\"Loading intraday data for {dt}\")\n",
    "            df = get_historical_intraday(ticker, dt, output_format='pandas')\n",
    "            if len(df)>0:\n",
    "                df = df.loc[:,['date','marketOpen','marketClose','marketVolume']]\n",
    "                df.rename(columns={'marketOpen':'open', 'marketClose':'close', 'marketVolume':'volume'}, inplace=True)\n",
    "                dfs.append(df)\n",
    "\n",
    "        intraday = pd.concat(dfs)\n",
    "        intraday.index = pd.to_datetime(intraday.index)\n",
    "        intraday.date = pd.to_datetime(intraday.date)\n",
    "        print(f\"Saved intraday data to {path}\")\n",
    "        intraday.to_pickle(path)\n",
    "    else:\n",
    "        print(\"Nothing to do\")\n",
    "        assert(False)\n",
    "    \n",
    "intraday.head()"
   ]
  },
  {
   "cell_type": "markdown",
   "metadata": {},
   "source": [
    "Prepare daily aggregate and geometric moving average"
   ]
  },
  {
   "cell_type": "code",
   "execution_count": 10,
   "metadata": {},
   "outputs": [
    {
     "data": {
      "text/html": [
       "<div>\n",
       "<style scoped>\n",
       "    .dataframe tbody tr th:only-of-type {\n",
       "        vertical-align: middle;\n",
       "    }\n",
       "\n",
       "    .dataframe tbody tr th {\n",
       "        vertical-align: top;\n",
       "    }\n",
       "\n",
       "    .dataframe thead th {\n",
       "        text-align: right;\n",
       "    }\n",
       "</style>\n",
       "<table border=\"1\" class=\"dataframe\">\n",
       "  <thead>\n",
       "    <tr style=\"text-align: right;\">\n",
       "      <th></th>\n",
       "      <th>open</th>\n",
       "      <th>close</th>\n",
       "      <th>volume</th>\n",
       "      <th>gmav</th>\n",
       "    </tr>\n",
       "    <tr>\n",
       "      <th>date</th>\n",
       "      <th></th>\n",
       "      <th></th>\n",
       "      <th></th>\n",
       "      <th></th>\n",
       "    </tr>\n",
       "  </thead>\n",
       "  <tbody>\n",
       "    <tr>\n",
       "      <th>2019-12-24</th>\n",
       "      <td>206.300</td>\n",
       "      <td>205.15</td>\n",
       "      <td>3228990</td>\n",
       "      <td>8304072.0</td>\n",
       "    </tr>\n",
       "    <tr>\n",
       "      <th>2019-12-26</th>\n",
       "      <td>205.566</td>\n",
       "      <td>207.79</td>\n",
       "      <td>5780968</td>\n",
       "      <td>8288985.0</td>\n",
       "    </tr>\n",
       "    <tr>\n",
       "      <th>2019-12-27</th>\n",
       "      <td>208.670</td>\n",
       "      <td>208.10</td>\n",
       "      <td>6958411</td>\n",
       "      <td>8154020.0</td>\n",
       "    </tr>\n",
       "    <tr>\n",
       "      <th>2019-12-30</th>\n",
       "      <td>207.860</td>\n",
       "      <td>204.41</td>\n",
       "      <td>7428730</td>\n",
       "      <td>8258235.0</td>\n",
       "    </tr>\n",
       "    <tr>\n",
       "      <th>2019-12-31</th>\n",
       "      <td>203.995</td>\n",
       "      <td>205.09</td>\n",
       "      <td>5792282</td>\n",
       "      <td>8124318.0</td>\n",
       "    </tr>\n",
       "  </tbody>\n",
       "</table>\n",
       "</div>"
      ],
      "text/plain": [
       "               open   close   volume       gmav\n",
       "date                                           \n",
       "2019-12-24  206.300  205.15  3228990  8304072.0\n",
       "2019-12-26  205.566  207.79  5780968  8288985.0\n",
       "2019-12-27  208.670  208.10  6958411  8154020.0\n",
       "2019-12-30  207.860  204.41  7428730  8258235.0\n",
       "2019-12-31  203.995  205.09  5792282  8124318.0"
      ]
     },
     "execution_count": 10,
     "metadata": {},
     "output_type": "execute_result"
    }
   ],
   "source": [
    "daily = intraday.groupby('date').agg({'open': 'first', 'close': 'last', 'volume': 'sum'})\n",
    "daily.index = pd.to_datetime(daily.index)\n",
    "daily['gmav'] = daily.volume.rolling(rollingWindow).agg(gmean).transform(np.ceil)\n",
    "daily.tail()"
   ]
  },
  {
   "cell_type": "code",
   "execution_count": 11,
   "metadata": {},
   "outputs": [
    {
     "data": {
      "image/png": "[encoded data removed]",
      "text/plain": [
       "<Figure size 720x432 with 1 Axes>"
      ]
     },
     "metadata": {
      "needs_background": "light"
     },
     "output_type": "display_data"
    }
   ],
   "source": [
    "sns.lineplot(x='date', y='value', hue='variable', data=daily.loc[:,['volume','gmav']].reset_index().melt(id_vars=['date']))\n",
    "plt.show()"
   ]
  },
  {
   "cell_type": "markdown",
   "metadata": {},
   "source": [
    "# Fit lognorm dist\n",
    "For some reason scipy fails to accurately fit lognorm to volume, so fitting norm to log volume"
   ]
  },
  {
   "cell_type": "code",
   "execution_count": 12,
   "metadata": {},
   "outputs": [
    {
     "data": {
      "image/png": "[encoded data removed]",
      "text/plain": [
       "<Figure size 720x432 with 1 Axes>"
      ]
     },
     "metadata": {
      "needs_background": "light"
     },
     "output_type": "display_data"
    }
   ],
   "source": [
    "sns.distplot(np.log(daily.volume), fit=stats.norm, axlabel='log volume')\n",
    "plt.show()"
   ]
  },
  {
   "cell_type": "code",
   "execution_count": 13,
   "metadata": {},
   "outputs": [
    {
     "data": {
      "image/png": "[encoded data removed]",
      "text/plain": [
       "<Figure size 720x432 with 1 Axes>"
      ]
     },
     "metadata": {
      "needs_background": "light"
     },
     "output_type": "display_data"
    }
   ],
   "source": [
    "_ = stats.probplot(np.log(daily.volume), dist=stats.norm,  plot=plt, rvalue=True)"
   ]
  },
  {
   "cell_type": "markdown",
   "metadata": {},
   "source": [
    "# Fitting invgamma"
   ]
  },
  {
   "cell_type": "code",
   "execution_count": 14,
   "metadata": {},
   "outputs": [
    {
     "name": "stderr",
     "output_type": "stream",
     "text": [
      "/Users/Andrey/anaconda3/envs/FinEng/lib/python3.6/site-packages/scipy/stats/_distn_infrastructure.py:2381: RuntimeWarning: invalid value encountered in double_scalars\n",
      "  Lhat = muhat - Shat*mu\n"
     ]
    },
    {
     "data": {
      "image/png": "[encoded data removed]",
      "text/plain": [
       "<Figure size 720x432 with 1 Axes>"
      ]
     },
     "metadata": {
      "needs_background": "light"
     },
     "output_type": "display_data"
    }
   ],
   "source": [
    "sns.distplot(daily.volume, fit=stats.invgamma)\n",
    "plt.show()"
   ]
  },
  {
   "cell_type": "code",
   "execution_count": 15,
   "metadata": {},
   "outputs": [
    {
     "data": {
      "image/png": "[encoded data removed]",
      "text/plain": [
       "<Figure size 720x432 with 1 Axes>"
      ]
     },
     "metadata": {
      "needs_background": "light"
     },
     "output_type": "display_data"
    }
   ],
   "source": [
    "_ = stats.probplot(daily.volume, dist=stats.invgamma, sparams=stats.invgamma.fit(daily.volume), plot=plt, rvalue=True)"
   ]
  },
  {
   "cell_type": "markdown",
   "metadata": {},
   "source": [
    "# Fitting gamma"
   ]
  },
  {
   "cell_type": "code",
   "execution_count": 16,
   "metadata": {},
   "outputs": [
    {
     "data": {
      "image/png": "[encoded data removed]",
      "text/plain": [
       "<Figure size 720x432 with 1 Axes>"
      ]
     },
     "metadata": {
      "needs_background": "light"
     },
     "output_type": "display_data"
    }
   ],
   "source": [
    "sns.distplot(daily.volume, fit=stats.gamma)\n",
    "plt.show()"
   ]
  },
  {
   "cell_type": "code",
   "execution_count": 17,
   "metadata": {},
   "outputs": [
    {
     "data": {
      "image/png": "[encoded data removed]",
      "text/plain": [
       "<Figure size 720x432 with 1 Axes>"
      ]
     },
     "metadata": {
      "needs_background": "light"
     },
     "output_type": "display_data"
    }
   ],
   "source": [
    "_ = stats.probplot(daily.volume, dist=stats.gamma, sparams=stats.gamma.fit(daily.volume), plot=plt, rvalue=True)"
   ]
  },
  {
   "cell_type": "markdown",
   "metadata": {},
   "source": [
    "# ARMA for initial daily volume prediction"
   ]
  },
  {
   "cell_type": "code",
   "execution_count": 18,
   "metadata": {},
   "outputs": [
    {
     "data": {
      "text/html": [
       "<div>\n",
       "<style scoped>\n",
       "    .dataframe tbody tr th:only-of-type {\n",
       "        vertical-align: middle;\n",
       "    }\n",
       "\n",
       "    .dataframe tbody tr th {\n",
       "        vertical-align: top;\n",
       "    }\n",
       "\n",
       "    .dataframe thead th {\n",
       "        text-align: right;\n",
       "    }\n",
       "</style>\n",
       "<table border=\"1\" class=\"dataframe\">\n",
       "  <thead>\n",
       "    <tr style=\"text-align: right;\">\n",
       "      <th></th>\n",
       "      <th>open</th>\n",
       "      <th>close</th>\n",
       "      <th>volume</th>\n",
       "      <th>gmav</th>\n",
       "      <th>lv</th>\n",
       "      <th>mu_lv</th>\n",
       "      <th>sigma_lv</th>\n",
       "      <th>excess_lv</th>\n",
       "    </tr>\n",
       "    <tr>\n",
       "      <th>date</th>\n",
       "      <th></th>\n",
       "      <th></th>\n",
       "      <th></th>\n",
       "      <th></th>\n",
       "      <th></th>\n",
       "      <th></th>\n",
       "      <th></th>\n",
       "      <th></th>\n",
       "    </tr>\n",
       "  </thead>\n",
       "  <tbody>\n",
       "    <tr>\n",
       "      <th>2019-12-24</th>\n",
       "      <td>206.300</td>\n",
       "      <td>205.15</td>\n",
       "      <td>3228990</td>\n",
       "      <td>8304072.0</td>\n",
       "      <td>15.932257</td>\n",
       "      <td>15.941458</td>\n",
       "      <td>0.053641</td>\n",
       "      <td>-0.009201</td>\n",
       "    </tr>\n",
       "    <tr>\n",
       "      <th>2019-12-26</th>\n",
       "      <td>205.566</td>\n",
       "      <td>207.79</td>\n",
       "      <td>5780968</td>\n",
       "      <td>8288985.0</td>\n",
       "      <td>15.930438</td>\n",
       "      <td>15.934175</td>\n",
       "      <td>0.043288</td>\n",
       "      <td>-0.003737</td>\n",
       "    </tr>\n",
       "    <tr>\n",
       "      <th>2019-12-27</th>\n",
       "      <td>208.670</td>\n",
       "      <td>208.10</td>\n",
       "      <td>6958411</td>\n",
       "      <td>8154020.0</td>\n",
       "      <td>15.914022</td>\n",
       "      <td>15.927403</td>\n",
       "      <td>0.033872</td>\n",
       "      <td>-0.013381</td>\n",
       "    </tr>\n",
       "    <tr>\n",
       "      <th>2019-12-30</th>\n",
       "      <td>207.860</td>\n",
       "      <td>204.41</td>\n",
       "      <td>7428730</td>\n",
       "      <td>8258235.0</td>\n",
       "      <td>15.926721</td>\n",
       "      <td>15.925566</td>\n",
       "      <td>0.032793</td>\n",
       "      <td>0.001156</td>\n",
       "    </tr>\n",
       "    <tr>\n",
       "      <th>2019-12-31</th>\n",
       "      <td>203.995</td>\n",
       "      <td>205.09</td>\n",
       "      <td>5792282</td>\n",
       "      <td>8124318.0</td>\n",
       "      <td>15.910372</td>\n",
       "      <td>15.924741</td>\n",
       "      <td>0.032965</td>\n",
       "      <td>-0.014369</td>\n",
       "    </tr>\n",
       "  </tbody>\n",
       "</table>\n",
       "</div>"
      ],
      "text/plain": [
       "               open   close   volume       gmav         lv      mu_lv  \\\n",
       "date                                                                    \n",
       "2019-12-24  206.300  205.15  3228990  8304072.0  15.932257  15.941458   \n",
       "2019-12-26  205.566  207.79  5780968  8288985.0  15.930438  15.934175   \n",
       "2019-12-27  208.670  208.10  6958411  8154020.0  15.914022  15.927403   \n",
       "2019-12-30  207.860  204.41  7428730  8258235.0  15.926721  15.925566   \n",
       "2019-12-31  203.995  205.09  5792282  8124318.0  15.910372  15.924741   \n",
       "\n",
       "            sigma_lv  excess_lv  \n",
       "date                             \n",
       "2019-12-24  0.053641  -0.009201  \n",
       "2019-12-26  0.043288  -0.003737  \n",
       "2019-12-27  0.033872  -0.013381  \n",
       "2019-12-30  0.032793   0.001156  \n",
       "2019-12-31  0.032965  -0.014369  "
      ]
     },
     "execution_count": 18,
     "metadata": {},
     "output_type": "execute_result"
    }
   ],
   "source": [
    "daily[\"lv\"] = np.log(daily.gmav)\n",
    "daily[\"mu_lv\"] = daily.lv.rolling(rollingWindow).mean()\n",
    "daily[\"sigma_lv\"] = daily.lv.rolling(rollingWindow).std()\n",
    "daily[\"excess_lv\"] = daily.lv - daily.mu_lv\n",
    "daily.tail()"
   ]
  },
  {
   "cell_type": "code",
   "execution_count": 19,
   "metadata": {},
   "outputs": [
    {
     "data": {
      "image/png": "[encoded data removed]",
      "text/plain": [
       "<Figure size 720x432 with 1 Axes>"
      ]
     },
     "metadata": {
      "needs_background": "light"
     },
     "output_type": "display_data"
    }
   ],
   "source": [
    "plot_acf(daily.excess_lv.dropna(), lags=10)\n",
    "plt.show()"
   ]
  },
  {
   "cell_type": "code",
   "execution_count": 25,
   "metadata": {},
   "outputs": [
    {
     "name": "stderr",
     "output_type": "stream",
     "text": [
      "/Users/Andrey/anaconda3/envs/FinEng/lib/python3.6/site-packages/statsmodels/tsa/base/tsa_model.py:219: ValueWarning: A date index has been provided, but it has no associated frequency information and so will be ignored when e.g. forecasting.\n",
      "  ' ignored when e.g. forecasting.', ValueWarning)\n"
     ]
    },
    {
     "name": "stdout",
     "output_type": "stream",
     "text": [
      "                              ARMA Model Results                              \n",
      "==============================================================================\n",
      "Dep. Variable:              excess_lv   No. Observations:                  149\n",
      "Model:                     ARMA(3, 1)   Log Likelihood                 353.387\n",
      "Method:                       css-mle   S.D. of innovations              0.022\n",
      "Date:                Sun, 17 May 2020   AIC                           -696.773\n",
      "Time:                        11:15:32   BIC                           -681.754\n",
      "Sample:                             0   HQIC                          -690.671\n",
      "                                                                              \n",
      "===================================================================================\n",
      "                      coef    std err          z      P>|z|      [0.025      0.975]\n",
      "-----------------------------------------------------------------------------------\n",
      "ar.L1.excess_lv     2.3305      0.113     20.552      0.000       2.108       2.553\n",
      "ar.L2.excess_lv    -1.7515      0.209     -8.363      0.000      -2.162      -1.341\n",
      "ar.L3.excess_lv     0.4054      0.102      3.967      0.000       0.205       0.606\n",
      "ma.L1.excess_lv    -0.8665      0.073    -11.938      0.000      -1.009      -0.724\n",
      "                                    Roots                                    \n",
      "=============================================================================\n",
      "                  Real          Imaginary           Modulus         Frequency\n",
      "-----------------------------------------------------------------------------\n",
      "AR.1            1.0309           -0.1717j            1.0451           -0.0263\n",
      "AR.2            1.0309           +0.1717j            1.0451            0.0263\n",
      "AR.3            2.2582           -0.0000j            2.2582           -0.0000\n",
      "MA.1            1.1541           +0.0000j            1.1541            0.0000\n",
      "-----------------------------------------------------------------------------\n"
     ]
    }
   ],
   "source": [
    "model = ARIMA(daily.excess_lv.dropna(), order=(3,0,1))\n",
    "model_fit = model.fit(trend='nc')\n",
    "print(model_fit.summary())"
   ]
  },
  {
   "cell_type": "code",
   "execution_count": 26,
   "metadata": {},
   "outputs": [
    {
     "data": {
      "image/png": "[encoded data removed]",
      "text/plain": [
       "<Figure size 720x432 with 1 Axes>"
      ]
     },
     "metadata": {
      "needs_background": "light"
     },
     "output_type": "display_data"
    }
   ],
   "source": [
    "model_fit.plot_predict()\n",
    "plt.show()"
   ]
  },
  {
   "cell_type": "markdown",
   "metadata": {},
   "source": [
    "# Intraday volume curve"
   ]
  },
  {
   "cell_type": "code",
   "execution_count": 182,
   "metadata": {},
   "outputs": [
    {
     "data": {
      "text/html": [
       "<div>\n",
       "<style scoped>\n",
       "    .dataframe tbody tr th:only-of-type {\n",
       "        vertical-align: middle;\n",
       "    }\n",
       "\n",
       "    .dataframe tbody tr th {\n",
       "        vertical-align: top;\n",
       "    }\n",
       "\n",
       "    .dataframe thead th {\n",
       "        text-align: right;\n",
       "    }\n",
       "</style>\n",
       "<table border=\"1\" class=\"dataframe\">\n",
       "  <thead>\n",
       "    <tr style=\"text-align: right;\">\n",
       "      <th></th>\n",
       "      <th>date</th>\n",
       "      <th>open</th>\n",
       "      <th>close</th>\n",
       "      <th>volume</th>\n",
       "      <th>raw_vc</th>\n",
       "      <th>time</th>\n",
       "    </tr>\n",
       "  </thead>\n",
       "  <tbody>\n",
       "    <tr>\n",
       "      <th>2019-12-31 15:55:00</th>\n",
       "      <td>2019-12-31</td>\n",
       "      <td>205.050</td>\n",
       "      <td>205.32</td>\n",
       "      <td>80138</td>\n",
       "      <td>0.013835</td>\n",
       "      <td>15:55:00</td>\n",
       "    </tr>\n",
       "    <tr>\n",
       "      <th>2019-12-31 15:56:00</th>\n",
       "      <td>2019-12-31</td>\n",
       "      <td>205.340</td>\n",
       "      <td>205.13</td>\n",
       "      <td>52535</td>\n",
       "      <td>0.009070</td>\n",
       "      <td>15:56:00</td>\n",
       "    </tr>\n",
       "    <tr>\n",
       "      <th>2019-12-31 15:57:00</th>\n",
       "      <td>2019-12-31</td>\n",
       "      <td>205.140</td>\n",
       "      <td>205.16</td>\n",
       "      <td>76489</td>\n",
       "      <td>0.013205</td>\n",
       "      <td>15:57:00</td>\n",
       "    </tr>\n",
       "    <tr>\n",
       "      <th>2019-12-31 15:58:00</th>\n",
       "      <td>2019-12-31</td>\n",
       "      <td>205.155</td>\n",
       "      <td>205.15</td>\n",
       "      <td>98079</td>\n",
       "      <td>0.016933</td>\n",
       "      <td>15:58:00</td>\n",
       "    </tr>\n",
       "    <tr>\n",
       "      <th>2019-12-31 15:59:00</th>\n",
       "      <td>2019-12-31</td>\n",
       "      <td>205.160</td>\n",
       "      <td>205.09</td>\n",
       "      <td>187882</td>\n",
       "      <td>0.032437</td>\n",
       "      <td>15:59:00</td>\n",
       "    </tr>\n",
       "  </tbody>\n",
       "</table>\n",
       "</div>"
      ],
      "text/plain": [
       "                          date     open   close  volume    raw_vc      time\n",
       "2019-12-31 15:55:00 2019-12-31  205.050  205.32   80138  0.013835  15:55:00\n",
       "2019-12-31 15:56:00 2019-12-31  205.340  205.13   52535  0.009070  15:56:00\n",
       "2019-12-31 15:57:00 2019-12-31  205.140  205.16   76489  0.013205  15:57:00\n",
       "2019-12-31 15:58:00 2019-12-31  205.155  205.15   98079  0.016933  15:58:00\n",
       "2019-12-31 15:59:00 2019-12-31  205.160  205.09  187882  0.032437  15:59:00"
      ]
     },
     "execution_count": 182,
     "metadata": {},
     "output_type": "execute_result"
    }
   ],
   "source": [
    "intraday['raw_vc'] = intraday.loc[:,['date','volume']].groupby('date').apply(lambda x: x / float(x.sum()))\n",
    "intraday['time'] = intraday.index.time\n",
    "intraday.tail()"
   ]
  },
  {
   "cell_type": "code",
   "execution_count": 28,
   "metadata": {},
   "outputs": [
    {
     "data": {
      "text/html": [
       "<div>\n",
       "<style scoped>\n",
       "    .dataframe tbody tr th:only-of-type {\n",
       "        vertical-align: middle;\n",
       "    }\n",
       "\n",
       "    .dataframe tbody tr th {\n",
       "        vertical-align: top;\n",
       "    }\n",
       "\n",
       "    .dataframe thead th {\n",
       "        text-align: right;\n",
       "    }\n",
       "</style>\n",
       "<table border=\"1\" class=\"dataframe\">\n",
       "  <thead>\n",
       "    <tr style=\"text-align: right;\">\n",
       "      <th></th>\n",
       "      <th>raw_vc</th>\n",
       "    </tr>\n",
       "    <tr>\n",
       "      <th>time</th>\n",
       "      <th></th>\n",
       "    </tr>\n",
       "  </thead>\n",
       "  <tbody>\n",
       "    <tr>\n",
       "      <th>09:30:00</th>\n",
       "      <td>0.033069</td>\n",
       "    </tr>\n",
       "    <tr>\n",
       "      <th>09:31:00</th>\n",
       "      <td>0.008181</td>\n",
       "    </tr>\n",
       "    <tr>\n",
       "      <th>09:32:00</th>\n",
       "      <td>0.007495</td>\n",
       "    </tr>\n",
       "    <tr>\n",
       "      <th>09:33:00</th>\n",
       "      <td>0.007200</td>\n",
       "    </tr>\n",
       "    <tr>\n",
       "      <th>09:34:00</th>\n",
       "      <td>0.006704</td>\n",
       "    </tr>\n",
       "    <tr>\n",
       "      <th>...</th>\n",
       "      <td>...</td>\n",
       "    </tr>\n",
       "    <tr>\n",
       "      <th>15:55:00</th>\n",
       "      <td>0.009343</td>\n",
       "    </tr>\n",
       "    <tr>\n",
       "      <th>15:56:00</th>\n",
       "      <td>0.006315</td>\n",
       "    </tr>\n",
       "    <tr>\n",
       "      <th>15:57:00</th>\n",
       "      <td>0.007135</td>\n",
       "    </tr>\n",
       "    <tr>\n",
       "      <th>15:58:00</th>\n",
       "      <td>0.008312</td>\n",
       "    </tr>\n",
       "    <tr>\n",
       "      <th>15:59:00</th>\n",
       "      <td>0.021594</td>\n",
       "    </tr>\n",
       "  </tbody>\n",
       "</table>\n",
       "<p>390 rows × 1 columns</p>\n",
       "</div>"
      ],
      "text/plain": [
       "            raw_vc\n",
       "time              \n",
       "09:30:00  0.033069\n",
       "09:31:00  0.008181\n",
       "09:32:00  0.007495\n",
       "09:33:00  0.007200\n",
       "09:34:00  0.006704\n",
       "...            ...\n",
       "15:55:00  0.009343\n",
       "15:56:00  0.006315\n",
       "15:57:00  0.007135\n",
       "15:58:00  0.008312\n",
       "15:59:00  0.021594\n",
       "\n",
       "[390 rows x 1 columns]"
      ]
     },
     "execution_count": 28,
     "metadata": {},
     "output_type": "execute_result"
    }
   ],
   "source": [
    "VC = intraday.loc[:,['time','raw_vc']].groupby('time').mean() # average over many days\n",
    "VC"
   ]
  },
  {
   "cell_type": "code",
   "execution_count": 29,
   "metadata": {},
   "outputs": [
    {
     "data": {
      "image/png": "[encoded data removed]",
      "text/plain": [
       "<Figure size 720x432 with 1 Axes>"
      ]
     },
     "metadata": {
      "needs_background": "light"
     },
     "output_type": "display_data"
    }
   ],
   "source": [
    "VC.plot()\n",
    "plt.show()"
   ]
  },
  {
   "cell_type": "markdown",
   "metadata": {},
   "source": [
    "## Very spiky VC - need to apply smother"
   ]
  },
  {
   "cell_type": "code",
   "execution_count": 50,
   "metadata": {},
   "outputs": [
    {
     "data": {
      "image/png": "[encoded data removed]",
      "text/plain": [
       "<Figure size 720x432 with 1 Axes>"
      ]
     },
     "metadata": {
      "needs_background": "light"
     },
     "output_type": "display_data"
    }
   ],
   "source": [
    "# rolling mean\n",
    "VC['vc'] = VC.raw_vc.rolling(3, min_periods=1).mean()\n",
    "VC.vc = VC.vc/VC.vc.sum() # normalize to 1\n",
    "VC['cumVC'] = VC.vc.cumsum()\n",
    "VC.vc.plot()\n",
    "plt.show()"
   ]
  },
  {
   "cell_type": "code",
   "execution_count": 31,
   "metadata": {},
   "outputs": [
    {
     "data": {
      "image/png": "[encoded data removed]",
      "text/plain": [
       "<Figure size 720x432 with 1 Axes>"
      ]
     },
     "metadata": {
      "needs_background": "light"
     },
     "output_type": "display_data"
    }
   ],
   "source": [
    "VC['vc'] = VC.raw_vc.rolling(window=3, min_periods=1, center=True).median()\n",
    "VC.vc = VC.vc/VC.vc.sum() # normalize to 1\n",
    "VC['cumVC'] = VC.vc.cumsum()\n",
    "VC.vc.plot()\n",
    "plt.show()"
   ]
  },
  {
   "cell_type": "markdown",
   "metadata": {},
   "source": [
    "# Prediction"
   ]
  },
  {
   "cell_type": "code",
   "execution_count": 34,
   "metadata": {},
   "outputs": [
    {
     "data": {
      "text/html": [
       "<div>\n",
       "<style scoped>\n",
       "    .dataframe tbody tr th:only-of-type {\n",
       "        vertical-align: middle;\n",
       "    }\n",
       "\n",
       "    .dataframe tbody tr th {\n",
       "        vertical-align: top;\n",
       "    }\n",
       "\n",
       "    .dataframe thead th {\n",
       "        text-align: right;\n",
       "    }\n",
       "</style>\n",
       "<table border=\"1\" class=\"dataframe\">\n",
       "  <thead>\n",
       "    <tr style=\"text-align: right;\">\n",
       "      <th></th>\n",
       "      <th>volume</th>\n",
       "      <th>cumVolume</th>\n",
       "    </tr>\n",
       "    <tr>\n",
       "      <th>time</th>\n",
       "      <th></th>\n",
       "      <th></th>\n",
       "    </tr>\n",
       "  </thead>\n",
       "  <tbody>\n",
       "    <tr>\n",
       "      <th>09:30:00</th>\n",
       "      <td>144900.0</td>\n",
       "      <td>144900.0</td>\n",
       "    </tr>\n",
       "    <tr>\n",
       "      <th>09:31:00</th>\n",
       "      <td>27349.0</td>\n",
       "      <td>172249.0</td>\n",
       "    </tr>\n",
       "    <tr>\n",
       "      <th>09:32:00</th>\n",
       "      <td>55596.0</td>\n",
       "      <td>227845.0</td>\n",
       "    </tr>\n",
       "    <tr>\n",
       "      <th>09:33:00</th>\n",
       "      <td>27339.0</td>\n",
       "      <td>255184.0</td>\n",
       "    </tr>\n",
       "    <tr>\n",
       "      <th>09:34:00</th>\n",
       "      <td>39788.0</td>\n",
       "      <td>294972.0</td>\n",
       "    </tr>\n",
       "    <tr>\n",
       "      <th>...</th>\n",
       "      <td>...</td>\n",
       "      <td>...</td>\n",
       "    </tr>\n",
       "    <tr>\n",
       "      <th>15:55:00</th>\n",
       "      <td>80138.0</td>\n",
       "      <td>5377297.0</td>\n",
       "    </tr>\n",
       "    <tr>\n",
       "      <th>15:56:00</th>\n",
       "      <td>52535.0</td>\n",
       "      <td>5429832.0</td>\n",
       "    </tr>\n",
       "    <tr>\n",
       "      <th>15:57:00</th>\n",
       "      <td>76489.0</td>\n",
       "      <td>5506321.0</td>\n",
       "    </tr>\n",
       "    <tr>\n",
       "      <th>15:58:00</th>\n",
       "      <td>98079.0</td>\n",
       "      <td>5604400.0</td>\n",
       "    </tr>\n",
       "    <tr>\n",
       "      <th>15:59:00</th>\n",
       "      <td>187882.0</td>\n",
       "      <td>5792282.0</td>\n",
       "    </tr>\n",
       "  </tbody>\n",
       "</table>\n",
       "<p>390 rows × 2 columns</p>\n",
       "</div>"
      ],
      "text/plain": [
       "            volume  cumVolume\n",
       "time                         \n",
       "09:30:00  144900.0   144900.0\n",
       "09:31:00   27349.0   172249.0\n",
       "09:32:00   55596.0   227845.0\n",
       "09:33:00   27339.0   255184.0\n",
       "09:34:00   39788.0   294972.0\n",
       "...            ...        ...\n",
       "15:55:00   80138.0  5377297.0\n",
       "15:56:00   52535.0  5429832.0\n",
       "15:57:00   76489.0  5506321.0\n",
       "15:58:00   98079.0  5604400.0\n",
       "15:59:00  187882.0  5792282.0\n",
       "\n",
       "[390 rows x 2 columns]"
      ]
     },
     "execution_count": 34,
     "metadata": {},
     "output_type": "execute_result"
    }
   ],
   "source": [
    "realized = intraday.where(intraday.date==intraday.date.max()).dropna().reset_index().loc[:,['time','volume']].set_index('time')\n",
    "realized[\"cumVolume\"] = realized.volume.cumsum()\n",
    "finalVolume = realized.cumVolume[-1]\n",
    "realized"
   ]
  },
  {
   "cell_type": "code",
   "execution_count": 35,
   "metadata": {},
   "outputs": [
    {
     "data": {
      "text/plain": [
       "15.936221992156275"
      ]
     },
     "execution_count": 35,
     "metadata": {},
     "output_type": "execute_result"
    }
   ],
   "source": [
    "predictedLogExcess = model_fit.predict().array[-1]\n",
    "predictedDailyLV = daily.mu_lv.array[-2] + predictedLogExcess # previous day rolling mean + excess\n",
    "predictedDailyLV"
   ]
  },
  {
   "cell_type": "code",
   "execution_count": 36,
   "metadata": {},
   "outputs": [
    {
     "data": {
      "text/plain": [
       "0.001075363653706093"
      ]
     },
     "execution_count": 36,
     "metadata": {},
     "output_type": "execute_result"
    }
   ],
   "source": [
    "DailyLVvar = daily.lv.rolling(rollingWindow).var()[-2]\n",
    "DailyLVvar"
   ]
  },
  {
   "cell_type": "code",
   "execution_count": 37,
   "metadata": {},
   "outputs": [],
   "source": [
    "k0 = 0.5 * rollingWindow"
   ]
  },
  {
   "cell_type": "code",
   "execution_count": 51,
   "metadata": {},
   "outputs": [
    {
     "data": {
      "text/html": [
       "<div>\n",
       "<style scoped>\n",
       "    .dataframe tbody tr th:only-of-type {\n",
       "        vertical-align: middle;\n",
       "    }\n",
       "\n",
       "    .dataframe tbody tr th {\n",
       "        vertical-align: top;\n",
       "    }\n",
       "\n",
       "    .dataframe thead th {\n",
       "        text-align: right;\n",
       "    }\n",
       "</style>\n",
       "<table border=\"1\" class=\"dataframe\">\n",
       "  <thead>\n",
       "    <tr style=\"text-align: right;\">\n",
       "      <th></th>\n",
       "      <th>volume</th>\n",
       "      <th>cumVolume</th>\n",
       "      <th>raw_vc</th>\n",
       "      <th>vc</th>\n",
       "      <th>cumVC</th>\n",
       "      <th>x</th>\n",
       "      <th>n</th>\n",
       "      <th>xbar</th>\n",
       "      <th>sigma_x</th>\n",
       "      <th>mu</th>\n",
       "      <th>predictedVolume</th>\n",
       "    </tr>\n",
       "    <tr>\n",
       "      <th>time</th>\n",
       "      <th></th>\n",
       "      <th></th>\n",
       "      <th></th>\n",
       "      <th></th>\n",
       "      <th></th>\n",
       "      <th></th>\n",
       "      <th></th>\n",
       "      <th></th>\n",
       "      <th></th>\n",
       "      <th></th>\n",
       "      <th></th>\n",
       "    </tr>\n",
       "  </thead>\n",
       "  <tbody>\n",
       "    <tr>\n",
       "      <th>09:30:00</th>\n",
       "      <td>144900.0</td>\n",
       "      <td>144900.0</td>\n",
       "      <td>0.033069</td>\n",
       "      <td>0.032487</td>\n",
       "      <td>0.032487</td>\n",
       "      <td>15.310703</td>\n",
       "      <td>1</td>\n",
       "      <td>15.310703</td>\n",
       "      <td>NaN</td>\n",
       "      <td>15.879357</td>\n",
       "      <td>7876204.0</td>\n",
       "    </tr>\n",
       "    <tr>\n",
       "      <th>09:31:00</th>\n",
       "      <td>27349.0</td>\n",
       "      <td>172249.0</td>\n",
       "      <td>0.008181</td>\n",
       "      <td>0.020262</td>\n",
       "      <td>0.052750</td>\n",
       "      <td>14.115425</td>\n",
       "      <td>2</td>\n",
       "      <td>14.713064</td>\n",
       "      <td>0.845189</td>\n",
       "      <td>15.732362</td>\n",
       "      <td>6799519.0</td>\n",
       "    </tr>\n",
       "    <tr>\n",
       "      <th>09:32:00</th>\n",
       "      <td>55596.0</td>\n",
       "      <td>227845.0</td>\n",
       "      <td>0.007495</td>\n",
       "      <td>0.015963</td>\n",
       "      <td>0.068712</td>\n",
       "      <td>15.063369</td>\n",
       "      <td>3</td>\n",
       "      <td>14.829832</td>\n",
       "      <td>0.630933</td>\n",
       "      <td>15.680901</td>\n",
       "      <td>6458460.0</td>\n",
       "    </tr>\n",
       "    <tr>\n",
       "      <th>09:33:00</th>\n",
       "      <td>27339.0</td>\n",
       "      <td>255184.0</td>\n",
       "      <td>0.007200</td>\n",
       "      <td>0.007491</td>\n",
       "      <td>0.076204</td>\n",
       "      <td>15.110087</td>\n",
       "      <td>4</td>\n",
       "      <td>14.899896</td>\n",
       "      <td>0.533873</td>\n",
       "      <td>15.640129</td>\n",
       "      <td>6200428.0</td>\n",
       "    </tr>\n",
       "    <tr>\n",
       "      <th>09:34:00</th>\n",
       "      <td>39788.0</td>\n",
       "      <td>294972.0</td>\n",
       "      <td>0.006704</td>\n",
       "      <td>0.007008</td>\n",
       "      <td>0.083211</td>\n",
       "      <td>15.552083</td>\n",
       "      <td>5</td>\n",
       "      <td>15.030333</td>\n",
       "      <td>0.546658</td>\n",
       "      <td>15.634259</td>\n",
       "      <td>6164140.0</td>\n",
       "    </tr>\n",
       "    <tr>\n",
       "      <th>...</th>\n",
       "      <td>...</td>\n",
       "      <td>...</td>\n",
       "      <td>...</td>\n",
       "      <td>...</td>\n",
       "      <td>...</td>\n",
       "      <td>...</td>\n",
       "      <td>...</td>\n",
       "      <td>...</td>\n",
       "      <td>...</td>\n",
       "      <td>...</td>\n",
       "      <td>...</td>\n",
       "    </tr>\n",
       "    <tr>\n",
       "      <th>15:55:00</th>\n",
       "      <td>80138.0</td>\n",
       "      <td>5377297.0</td>\n",
       "      <td>0.009343</td>\n",
       "      <td>0.006309</td>\n",
       "      <td>0.966374</td>\n",
       "      <td>16.357295</td>\n",
       "      <td>386</td>\n",
       "      <td>15.365899</td>\n",
       "      <td>0.578092</td>\n",
       "      <td>15.380301</td>\n",
       "      <td>4781672.0</td>\n",
       "    </tr>\n",
       "    <tr>\n",
       "      <th>15:56:00</th>\n",
       "      <td>52535.0</td>\n",
       "      <td>5429832.0</td>\n",
       "      <td>0.006315</td>\n",
       "      <td>0.006906</td>\n",
       "      <td>0.973280</td>\n",
       "      <td>15.844602</td>\n",
       "      <td>387</td>\n",
       "      <td>15.367136</td>\n",
       "      <td>0.577855</td>\n",
       "      <td>15.381470</td>\n",
       "      <td>4787268.0</td>\n",
       "    </tr>\n",
       "    <tr>\n",
       "      <th>15:57:00</th>\n",
       "      <td>76489.0</td>\n",
       "      <td>5506321.0</td>\n",
       "      <td>0.007135</td>\n",
       "      <td>0.007464</td>\n",
       "      <td>0.980744</td>\n",
       "      <td>16.142542</td>\n",
       "      <td>388</td>\n",
       "      <td>15.369134</td>\n",
       "      <td>0.578449</td>\n",
       "      <td>15.383383</td>\n",
       "      <td>4796431.0</td>\n",
       "    </tr>\n",
       "    <tr>\n",
       "      <th>15:58:00</th>\n",
       "      <td>98079.0</td>\n",
       "      <td>5604400.0</td>\n",
       "      <td>0.008312</td>\n",
       "      <td>0.007127</td>\n",
       "      <td>0.987870</td>\n",
       "      <td>16.437463</td>\n",
       "      <td>389</td>\n",
       "      <td>15.371880</td>\n",
       "      <td>0.580237</td>\n",
       "      <td>15.386024</td>\n",
       "      <td>4809119.0</td>\n",
       "    </tr>\n",
       "    <tr>\n",
       "      <th>15:59:00</th>\n",
       "      <td>187882.0</td>\n",
       "      <td>5792282.0</td>\n",
       "      <td>0.021594</td>\n",
       "      <td>0.012130</td>\n",
       "      <td>1.000000</td>\n",
       "      <td>16.555662</td>\n",
       "      <td>390</td>\n",
       "      <td>15.374916</td>\n",
       "      <td>0.582583</td>\n",
       "      <td>15.388948</td>\n",
       "      <td>4823202.0</td>\n",
       "    </tr>\n",
       "  </tbody>\n",
       "</table>\n",
       "<p>390 rows × 11 columns</p>\n",
       "</div>"
      ],
      "text/plain": [
       "            volume  cumVolume    raw_vc        vc     cumVC          x    n  \\\n",
       "time                                                                          \n",
       "09:30:00  144900.0   144900.0  0.033069  0.032487  0.032487  15.310703    1   \n",
       "09:31:00   27349.0   172249.0  0.008181  0.020262  0.052750  14.115425    2   \n",
       "09:32:00   55596.0   227845.0  0.007495  0.015963  0.068712  15.063369    3   \n",
       "09:33:00   27339.0   255184.0  0.007200  0.007491  0.076204  15.110087    4   \n",
       "09:34:00   39788.0   294972.0  0.006704  0.007008  0.083211  15.552083    5   \n",
       "...            ...        ...       ...       ...       ...        ...  ...   \n",
       "15:55:00   80138.0  5377297.0  0.009343  0.006309  0.966374  16.357295  386   \n",
       "15:56:00   52535.0  5429832.0  0.006315  0.006906  0.973280  15.844602  387   \n",
       "15:57:00   76489.0  5506321.0  0.007135  0.007464  0.980744  16.142542  388   \n",
       "15:58:00   98079.0  5604400.0  0.008312  0.007127  0.987870  16.437463  389   \n",
       "15:59:00  187882.0  5792282.0  0.021594  0.012130  1.000000  16.555662  390   \n",
       "\n",
       "               xbar   sigma_x         mu  predictedVolume  \n",
       "time                                                       \n",
       "09:30:00  15.310703       NaN  15.879357        7876204.0  \n",
       "09:31:00  14.713064  0.845189  15.732362        6799519.0  \n",
       "09:32:00  14.829832  0.630933  15.680901        6458460.0  \n",
       "09:33:00  14.899896  0.533873  15.640129        6200428.0  \n",
       "09:34:00  15.030333  0.546658  15.634259        6164140.0  \n",
       "...             ...       ...        ...              ...  \n",
       "15:55:00  15.365899  0.578092  15.380301        4781672.0  \n",
       "15:56:00  15.367136  0.577855  15.381470        4787268.0  \n",
       "15:57:00  15.369134  0.578449  15.383383        4796431.0  \n",
       "15:58:00  15.371880  0.580237  15.386024        4809119.0  \n",
       "15:59:00  15.374916  0.582583  15.388948        4823202.0  \n",
       "\n",
       "[390 rows x 11 columns]"
      ]
     },
     "execution_count": 51,
     "metadata": {},
     "output_type": "execute_result"
    }
   ],
   "source": [
    "prediction = realized.join(VC)\n",
    "prediction['x'] = np.log(prediction.volume/prediction.vc)\n",
    "prediction['n'] = np.arange(1,len(prediction)+1)\n",
    "prediction['xbar'] = prediction.x.expanding().mean()\n",
    "prediction['sigma_x'] = prediction.x.expanding().std()\n",
    "prediction['mu'] = (predictedDailyLV*k0+prediction.n*prediction.xbar)/(k0+prediction.n) # apply 'unknown mean and variance' prediction\n",
    "prediction['predictedVolume'] = np.ceil(np.exp(prediction.mu))\n",
    "prediction"
   ]
  },
  {
   "cell_type": "code",
   "execution_count": 52,
   "metadata": {},
   "outputs": [
    {
     "data": {
      "text/html": [
       "<div>\n",
       "<style scoped>\n",
       "    .dataframe tbody tr th:only-of-type {\n",
       "        vertical-align: middle;\n",
       "    }\n",
       "\n",
       "    .dataframe tbody tr th {\n",
       "        vertical-align: top;\n",
       "    }\n",
       "\n",
       "    .dataframe thead th {\n",
       "        text-align: right;\n",
       "    }\n",
       "</style>\n",
       "<table border=\"1\" class=\"dataframe\">\n",
       "  <thead>\n",
       "    <tr style=\"text-align: right;\">\n",
       "      <th></th>\n",
       "      <th>volume</th>\n",
       "      <th>cumVolume</th>\n",
       "      <th>raw_vc</th>\n",
       "      <th>vc</th>\n",
       "      <th>cumVC</th>\n",
       "      <th>x</th>\n",
       "      <th>n</th>\n",
       "      <th>xbar</th>\n",
       "      <th>sigma_x</th>\n",
       "      <th>mu</th>\n",
       "      <th>predictedVolume</th>\n",
       "    </tr>\n",
       "    <tr>\n",
       "      <th>time</th>\n",
       "      <th></th>\n",
       "      <th></th>\n",
       "      <th></th>\n",
       "      <th></th>\n",
       "      <th></th>\n",
       "      <th></th>\n",
       "      <th></th>\n",
       "      <th></th>\n",
       "      <th></th>\n",
       "      <th></th>\n",
       "      <th></th>\n",
       "    </tr>\n",
       "  </thead>\n",
       "  <tbody>\n",
       "    <tr>\n",
       "      <th>09:30:00</th>\n",
       "      <td>144900.0</td>\n",
       "      <td>144900.0</td>\n",
       "      <td>0.033069</td>\n",
       "      <td>0.032487</td>\n",
       "      <td>0.032487</td>\n",
       "      <td>15.310703</td>\n",
       "      <td>1</td>\n",
       "      <td>15.310703</td>\n",
       "      <td>NaN</td>\n",
       "      <td>15.879357</td>\n",
       "      <td>7876204.0</td>\n",
       "    </tr>\n",
       "    <tr>\n",
       "      <th>09:31:00</th>\n",
       "      <td>27349.0</td>\n",
       "      <td>172249.0</td>\n",
       "      <td>0.008181</td>\n",
       "      <td>0.020262</td>\n",
       "      <td>0.052750</td>\n",
       "      <td>14.115425</td>\n",
       "      <td>2</td>\n",
       "      <td>14.713064</td>\n",
       "      <td>0.845189</td>\n",
       "      <td>15.732362</td>\n",
       "      <td>6799519.0</td>\n",
       "    </tr>\n",
       "    <tr>\n",
       "      <th>09:32:00</th>\n",
       "      <td>55596.0</td>\n",
       "      <td>227845.0</td>\n",
       "      <td>0.007495</td>\n",
       "      <td>0.015963</td>\n",
       "      <td>0.068712</td>\n",
       "      <td>15.063369</td>\n",
       "      <td>3</td>\n",
       "      <td>14.829832</td>\n",
       "      <td>0.630933</td>\n",
       "      <td>15.680901</td>\n",
       "      <td>6458460.0</td>\n",
       "    </tr>\n",
       "    <tr>\n",
       "      <th>09:33:00</th>\n",
       "      <td>27339.0</td>\n",
       "      <td>255184.0</td>\n",
       "      <td>0.007200</td>\n",
       "      <td>0.007491</td>\n",
       "      <td>0.076204</td>\n",
       "      <td>15.110087</td>\n",
       "      <td>4</td>\n",
       "      <td>14.899896</td>\n",
       "      <td>0.533873</td>\n",
       "      <td>15.640129</td>\n",
       "      <td>6200428.0</td>\n",
       "    </tr>\n",
       "    <tr>\n",
       "      <th>09:34:00</th>\n",
       "      <td>39788.0</td>\n",
       "      <td>294972.0</td>\n",
       "      <td>0.006704</td>\n",
       "      <td>0.007008</td>\n",
       "      <td>0.083211</td>\n",
       "      <td>15.552083</td>\n",
       "      <td>5</td>\n",
       "      <td>15.030333</td>\n",
       "      <td>0.546658</td>\n",
       "      <td>15.634259</td>\n",
       "      <td>6164140.0</td>\n",
       "    </tr>\n",
       "    <tr>\n",
       "      <th>...</th>\n",
       "      <td>...</td>\n",
       "      <td>...</td>\n",
       "      <td>...</td>\n",
       "      <td>...</td>\n",
       "      <td>...</td>\n",
       "      <td>...</td>\n",
       "      <td>...</td>\n",
       "      <td>...</td>\n",
       "      <td>...</td>\n",
       "      <td>...</td>\n",
       "      <td>...</td>\n",
       "    </tr>\n",
       "    <tr>\n",
       "      <th>15:55:00</th>\n",
       "      <td>80138.0</td>\n",
       "      <td>5377297.0</td>\n",
       "      <td>0.009343</td>\n",
       "      <td>0.006309</td>\n",
       "      <td>0.966374</td>\n",
       "      <td>16.357295</td>\n",
       "      <td>386</td>\n",
       "      <td>15.365899</td>\n",
       "      <td>0.578092</td>\n",
       "      <td>10.802291</td>\n",
       "      <td>4781672.0</td>\n",
       "    </tr>\n",
       "    <tr>\n",
       "      <th>15:56:00</th>\n",
       "      <td>52535.0</td>\n",
       "      <td>5429832.0</td>\n",
       "      <td>0.006315</td>\n",
       "      <td>0.006906</td>\n",
       "      <td>0.973280</td>\n",
       "      <td>15.844602</td>\n",
       "      <td>387</td>\n",
       "      <td>15.367136</td>\n",
       "      <td>0.577855</td>\n",
       "      <td>10.808724</td>\n",
       "      <td>4787268.0</td>\n",
       "    </tr>\n",
       "    <tr>\n",
       "      <th>15:57:00</th>\n",
       "      <td>76489.0</td>\n",
       "      <td>5506321.0</td>\n",
       "      <td>0.007135</td>\n",
       "      <td>0.007464</td>\n",
       "      <td>0.980744</td>\n",
       "      <td>16.142542</td>\n",
       "      <td>388</td>\n",
       "      <td>15.369134</td>\n",
       "      <td>0.578449</td>\n",
       "      <td>10.810412</td>\n",
       "      <td>4796431.0</td>\n",
       "    </tr>\n",
       "    <tr>\n",
       "      <th>15:58:00</th>\n",
       "      <td>98079.0</td>\n",
       "      <td>5604400.0</td>\n",
       "      <td>0.008312</td>\n",
       "      <td>0.007127</td>\n",
       "      <td>0.987870</td>\n",
       "      <td>16.437463</td>\n",
       "      <td>389</td>\n",
       "      <td>15.371880</td>\n",
       "      <td>0.580237</td>\n",
       "      <td>10.805168</td>\n",
       "      <td>4809119.0</td>\n",
       "    </tr>\n",
       "    <tr>\n",
       "      <th>15:59:00</th>\n",
       "      <td>187882.0</td>\n",
       "      <td>5792282.0</td>\n",
       "      <td>0.021594</td>\n",
       "      <td>0.012130</td>\n",
       "      <td>1.000000</td>\n",
       "      <td>16.555662</td>\n",
       "      <td>390</td>\n",
       "      <td>15.374916</td>\n",
       "      <td>0.582583</td>\n",
       "      <td>10.796705</td>\n",
       "      <td>4823202.0</td>\n",
       "    </tr>\n",
       "  </tbody>\n",
       "</table>\n",
       "<p>390 rows × 11 columns</p>\n",
       "</div>"
      ],
      "text/plain": [
       "            volume  cumVolume    raw_vc        vc     cumVC          x    n  \\\n",
       "time                                                                          \n",
       "09:30:00  144900.0   144900.0  0.033069  0.032487  0.032487  15.310703    1   \n",
       "09:31:00   27349.0   172249.0  0.008181  0.020262  0.052750  14.115425    2   \n",
       "09:32:00   55596.0   227845.0  0.007495  0.015963  0.068712  15.063369    3   \n",
       "09:33:00   27339.0   255184.0  0.007200  0.007491  0.076204  15.110087    4   \n",
       "09:34:00   39788.0   294972.0  0.006704  0.007008  0.083211  15.552083    5   \n",
       "...            ...        ...       ...       ...       ...        ...  ...   \n",
       "15:55:00   80138.0  5377297.0  0.009343  0.006309  0.966374  16.357295  386   \n",
       "15:56:00   52535.0  5429832.0  0.006315  0.006906  0.973280  15.844602  387   \n",
       "15:57:00   76489.0  5506321.0  0.007135  0.007464  0.980744  16.142542  388   \n",
       "15:58:00   98079.0  5604400.0  0.008312  0.007127  0.987870  16.437463  389   \n",
       "15:59:00  187882.0  5792282.0  0.021594  0.012130  1.000000  16.555662  390   \n",
       "\n",
       "               xbar   sigma_x         mu  predictedVolume  \n",
       "time                                                       \n",
       "09:30:00  15.310703       NaN  15.879357        7876204.0  \n",
       "09:31:00  14.713064  0.845189  15.732362        6799519.0  \n",
       "09:32:00  14.829832  0.630933  15.680901        6458460.0  \n",
       "09:33:00  14.899896  0.533873  15.640129        6200428.0  \n",
       "09:34:00  15.030333  0.546658  15.634259        6164140.0  \n",
       "...             ...       ...        ...              ...  \n",
       "15:55:00  15.365899  0.578092  10.802291        4781672.0  \n",
       "15:56:00  15.367136  0.577855  10.808724        4787268.0  \n",
       "15:57:00  15.369134  0.578449  10.810412        4796431.0  \n",
       "15:58:00  15.371880  0.580237  10.805168        4809119.0  \n",
       "15:59:00  15.374916  0.582583  10.796705        4823202.0  \n",
       "\n",
       "[390 rows x 11 columns]"
      ]
     },
     "execution_count": 52,
     "metadata": {},
     "output_type": "execute_result"
    }
   ],
   "source": [
    "# apply 'unknown mean, known variance' prediction\n",
    "prediction.loc[prediction.n>100, 'mu'] = (prediction.n*prediction.xbar/np.power(prediction.sigma_x,2) + \\\n",
    "    predictedDailyLV/DailyLVvar)/(prediction.n/np.power(prediction.sigma_x,2) + 2/DailyLVvar)\n",
    "prediction"
   ]
  },
  {
   "cell_type": "code",
   "execution_count": 53,
   "metadata": {},
   "outputs": [
    {
     "data": {
      "text/plain": [
       "[]"
      ]
     },
     "execution_count": 53,
     "metadata": {},
     "output_type": "execute_result"
    },
    {
     "data": {
      "image/png": "[encoded data removed]",
      "text/plain": [
       "<Figure size 720x432 with 1 Axes>"
      ]
     },
     "metadata": {
      "needs_background": "light"
     },
     "output_type": "display_data"
    }
   ],
   "source": [
    "prediction.predictedVolume.plot()\n",
    "plt.axhline(y=finalVolume, c='red', ls='--')\n",
    "plt.plot()"
   ]
  },
  {
   "cell_type": "code",
   "execution_count": 54,
   "metadata": {},
   "outputs": [
    {
     "data": {
      "text/html": [
       "<div>\n",
       "<style scoped>\n",
       "    .dataframe tbody tr th:only-of-type {\n",
       "        vertical-align: middle;\n",
       "    }\n",
       "\n",
       "    .dataframe tbody tr th {\n",
       "        vertical-align: top;\n",
       "    }\n",
       "\n",
       "    .dataframe thead th {\n",
       "        text-align: right;\n",
       "    }\n",
       "</style>\n",
       "<table border=\"1\" class=\"dataframe\">\n",
       "  <thead>\n",
       "    <tr style=\"text-align: right;\">\n",
       "      <th></th>\n",
       "      <th>predictedVolume</th>\n",
       "      <th>elpv</th>\n",
       "      <th>SE</th>\n",
       "      <th>w</th>\n",
       "      <th>LE</th>\n",
       "    </tr>\n",
       "    <tr>\n",
       "      <th>time</th>\n",
       "      <th></th>\n",
       "      <th></th>\n",
       "      <th></th>\n",
       "      <th></th>\n",
       "      <th></th>\n",
       "    </tr>\n",
       "  </thead>\n",
       "  <tbody>\n",
       "    <tr>\n",
       "      <th>09:30:00</th>\n",
       "      <td>7876204.0</td>\n",
       "      <td>0.307320</td>\n",
       "      <td>4.342731e+12</td>\n",
       "      <td>2</td>\n",
       "      <td>0.188891</td>\n",
       "    </tr>\n",
       "    <tr>\n",
       "      <th>09:31:00</th>\n",
       "      <td>6799519.0</td>\n",
       "      <td>0.160326</td>\n",
       "      <td>1.014526e+12</td>\n",
       "      <td>2</td>\n",
       "      <td>0.051409</td>\n",
       "    </tr>\n",
       "    <tr>\n",
       "      <th>09:32:00</th>\n",
       "      <td>6458460.0</td>\n",
       "      <td>0.108865</td>\n",
       "      <td>4.437931e+11</td>\n",
       "      <td>2</td>\n",
       "      <td>0.023703</td>\n",
       "    </tr>\n",
       "    <tr>\n",
       "      <th>09:33:00</th>\n",
       "      <td>6200428.0</td>\n",
       "      <td>0.068092</td>\n",
       "      <td>1.665832e+11</td>\n",
       "      <td>2</td>\n",
       "      <td>0.009273</td>\n",
       "    </tr>\n",
       "    <tr>\n",
       "      <th>09:34:00</th>\n",
       "      <td>6164140.0</td>\n",
       "      <td>0.062222</td>\n",
       "      <td>1.382784e+11</td>\n",
       "      <td>2</td>\n",
       "      <td>0.007743</td>\n",
       "    </tr>\n",
       "    <tr>\n",
       "      <th>...</th>\n",
       "      <td>...</td>\n",
       "      <td>...</td>\n",
       "      <td>...</td>\n",
       "      <td>...</td>\n",
       "      <td>...</td>\n",
       "    </tr>\n",
       "    <tr>\n",
       "      <th>15:55:00</th>\n",
       "      <td>4781672.0</td>\n",
       "      <td>-0.191736</td>\n",
       "      <td>1.021333e+12</td>\n",
       "      <td>1</td>\n",
       "      <td>-0.036763</td>\n",
       "    </tr>\n",
       "    <tr>\n",
       "      <th>15:56:00</th>\n",
       "      <td>4787268.0</td>\n",
       "      <td>-0.190566</td>\n",
       "      <td>1.010053e+12</td>\n",
       "      <td>1</td>\n",
       "      <td>-0.036316</td>\n",
       "    </tr>\n",
       "    <tr>\n",
       "      <th>15:57:00</th>\n",
       "      <td>4796431.0</td>\n",
       "      <td>-0.188654</td>\n",
       "      <td>9.917192e+11</td>\n",
       "      <td>1</td>\n",
       "      <td>-0.035590</td>\n",
       "    </tr>\n",
       "    <tr>\n",
       "      <th>15:58:00</th>\n",
       "      <td>4809119.0</td>\n",
       "      <td>-0.186012</td>\n",
       "      <td>9.666095e+11</td>\n",
       "      <td>1</td>\n",
       "      <td>-0.034601</td>\n",
       "    </tr>\n",
       "    <tr>\n",
       "      <th>15:59:00</th>\n",
       "      <td>4823202.0</td>\n",
       "      <td>-0.183088</td>\n",
       "      <td>9.391160e+11</td>\n",
       "      <td>1</td>\n",
       "      <td>-0.033521</td>\n",
       "    </tr>\n",
       "  </tbody>\n",
       "</table>\n",
       "<p>390 rows × 5 columns</p>\n",
       "</div>"
      ],
      "text/plain": [
       "          predictedVolume      elpv            SE  w        LE\n",
       "time                                                          \n",
       "09:30:00        7876204.0  0.307320  4.342731e+12  2  0.188891\n",
       "09:31:00        6799519.0  0.160326  1.014526e+12  2  0.051409\n",
       "09:32:00        6458460.0  0.108865  4.437931e+11  2  0.023703\n",
       "09:33:00        6200428.0  0.068092  1.665832e+11  2  0.009273\n",
       "09:34:00        6164140.0  0.062222  1.382784e+11  2  0.007743\n",
       "...                   ...       ...           ... ..       ...\n",
       "15:55:00        4781672.0 -0.191736  1.021333e+12  1 -0.036763\n",
       "15:56:00        4787268.0 -0.190566  1.010053e+12  1 -0.036316\n",
       "15:57:00        4796431.0 -0.188654  9.917192e+11  1 -0.035590\n",
       "15:58:00        4809119.0 -0.186012  9.666095e+11  1 -0.034601\n",
       "15:59:00        4823202.0 -0.183088  9.391160e+11  1 -0.033521\n",
       "\n",
       "[390 rows x 5 columns]"
      ]
     },
     "execution_count": 54,
     "metadata": {},
     "output_type": "execute_result"
    }
   ],
   "source": [
    "PERF = prediction.loc[:,['predictedVolume']]\n",
    "PERF['elpv'] = np.log(PERF.predictedVolume)-np.log(finalVolume)\n",
    "PERF['SE'] = np.power(PERF.predictedVolume - finalVolume, 2)\n",
    "PERF['w'] = PERF.elpv.apply(lambda x: 2 if x>0 else 1)\n",
    "PERF['LE'] = PERF.w*PERF.elpv*PERF.elpv.abs()\n",
    "PERF"
   ]
  },
  {
   "cell_type": "code",
   "execution_count": 55,
   "metadata": {},
   "outputs": [
    {
     "data": {
      "text/plain": [
       "910083.1357836167"
      ]
     },
     "execution_count": 55,
     "metadata": {},
     "output_type": "execute_result"
    }
   ],
   "source": [
    "# RMSE\n",
    "np.sqrt(PERF.SE.sum()/len(PERF))"
   ]
  },
  {
   "cell_type": "code",
   "execution_count": 56,
   "metadata": {},
   "outputs": [
    {
     "data": {
      "text/plain": [
       "-11.034005048069329"
      ]
     },
     "execution_count": 56,
     "metadata": {},
     "output_type": "execute_result"
    }
   ],
   "source": [
    "# ALE\n",
    "PERF.LE.sum()"
   ]
  },
  {
   "cell_type": "markdown",
   "metadata": {},
   "source": [
    "# Comparison with naive gmean"
   ]
  },
  {
   "cell_type": "code",
   "execution_count": 57,
   "metadata": {},
   "outputs": [
    {
     "data": {
      "text/plain": [
       "2465953.0"
      ]
     },
     "execution_count": 57,
     "metadata": {},
     "output_type": "execute_result"
    }
   ],
   "source": [
    "# RMSE\n",
    "np.abs(finalVolume - daily.gmav[-2])"
   ]
  },
  {
   "cell_type": "code",
   "execution_count": 58,
   "metadata": {},
   "outputs": [
    {
     "data": {
      "text/plain": [
       "0.25160224947485504"
      ]
     },
     "execution_count": 58,
     "metadata": {},
     "output_type": "execute_result"
    }
   ],
   "source": [
    "# ALE\n",
    "d = np.log(daily.gmav[-2]) - np.log(finalVolume)\n",
    "w = 2 if d>0 else 1\n",
    "w*d*np.abs(d)"
   ]
  },
  {
   "cell_type": "markdown",
   "metadata": {},
   "source": [
    "# PROVAL :("
   ]
  },
  {
   "cell_type": "code",
   "execution_count": 59,
   "metadata": {},
   "outputs": [
    {
     "data": {
      "text/plain": [
       "8337066.652609941"
      ]
     },
     "execution_count": 59,
     "metadata": {},
     "output_type": "execute_result"
    }
   ],
   "source": [
    "np.exp(predictedDailyLV)"
   ]
  },
  {
   "cell_type": "code",
   "execution_count": 60,
   "metadata": {},
   "outputs": [
    {
     "data": {
      "text/plain": [
       "5792282.0"
      ]
     },
     "execution_count": 60,
     "metadata": {},
     "output_type": "execute_result"
    }
   ],
   "source": [
    "finalVolume"
   ]
  },
  {
   "cell_type": "code",
   "execution_count": 61,
   "metadata": {},
   "outputs": [
    {
     "data": {
      "text/plain": [
       "8258235.0"
      ]
     },
     "execution_count": 61,
     "metadata": {},
     "output_type": "execute_result"
    }
   ],
   "source": [
    "daily.gmav[-2]"
   ]
  },
  {
   "cell_type": "code",
   "execution_count": 62,
   "metadata": {},
   "outputs": [
    {
     "data": {
      "text/plain": [
       "4823202.0"
      ]
     },
     "execution_count": 62,
     "metadata": {},
     "output_type": "execute_result"
    }
   ],
   "source": [
    "prediction.predictedVolume[-1]"
   ]
  },
  {
   "cell_type": "code",
   "execution_count": null,
   "metadata": {},
   "outputs": [],
   "source": []
  },
  {
   "cell_type": "markdown",
   "metadata": {},
   "source": [
    "# Forecasting performance\n",
    "\n",
    "For each date:\n",
    "- IG \n",
    " - obtain trailing 21-day avg volume for each minute\n",
    " - obtain trailing 21-day var volume for each minute\n",
    " - obtain daily volume for previous 21 day, compute avg and var\n",
    " - compute {$\\alpha_t$}\n",
    " - obtain the current day's realized volume for each minute\n",
    " - for each minute compute forecasted daily volume and forecast error\n",
    " - calculate RMSE for the date\n",
    " \n",
    "- LN \n",
    " - obtain daily volume for previous 21 day, compute avg and var\n",
    " - train ARMA, predict initial daily volume\n",
    " - for each minute compute avg percentage of daily volume, smooth and normalize\n",
    " - obtain the current day's realized volume for each minute\n",
    " - for each minute compute forecasted daily volume and forecast error\n",
    " - calculate RMSE for the date"
   ]
  },
  {
   "cell_type": "code",
   "execution_count": null,
   "metadata": {},
   "outputs": [],
   "source": [
    "intraday.date.unique()\n",
    "get_daily_volume(intraday.iloc[0:21*390,:])"
   ]
  },
  {
   "cell_type": "code",
   "execution_count": 138,
   "metadata": {},
   "outputs": [],
   "source": [
    "def get_vc(minutelyVolume, ndays=21):\n",
    "    \"\"\"\n",
    "    Parameters: \n",
    "    minutelyVolume (DataFrame): minutely volume indexed by datetime, expected columns: date, volume\n",
    "    ndays (int): window width in days\n",
    "  \n",
    "    Returns: \n",
    "    DataFrame: smoothed volume curve (percentage of daily volume) indexed by time\n",
    "    \"\"\"\n",
    "    assert minutelyVolume.date.nunique() == ndays, f\"Number of days should be {ndays}, got {minutelyVolume.date.nunique()}\"\n",
    "    minutelyVolume = minutelyVolume.loc[:,['date', 'volume']].copy()\n",
    "    minutelyVolume['raw_vc'] = minutelyVolume.loc[:,['date','volume']].groupby('date').apply(lambda x: x / float(x.sum()))\n",
    "    minutelyVolume['time'] = minutelyVolume.index.time\n",
    "    \n",
    "    VC = minutelyVolume.loc[:,['time','raw_vc']].groupby('time').mean() # average over days\n",
    "    VC['vc'] = VC.raw_vc.rolling(window=3, min_periods=1).mean() # use rolling avg to smooth\n",
    "    VC.vc = VC.vc/VC.vc.sum() # normalize to 1\n",
    "    return VC[['vc']]"
   ]
  },
  {
   "cell_type": "code",
   "execution_count": 139,
   "metadata": {},
   "outputs": [],
   "source": [
    "def get_daily_volume(minutelyVolume, ndays=21):\n",
    "    \"\"\"\n",
    "    Parameters: \n",
    "    minutelyVolume (DataFrame): minutely volume indexed by datetime, expected columns: date, volume\n",
    "    ndays (int): window width in days\n",
    "  \n",
    "    Returns: \n",
    "    DataFrame: daily volume indexed by date\n",
    "    \"\"\"\n",
    "    assert minutelyVolume.date.nunique() == ndays, f\"Number of days should be {ndays}, got {minutelyVolume.date.nunique()}\"\n",
    "    daily = minutelyVolume.groupby('date').agg({'volume': 'sum'}).copy()\n",
    "    daily.index = pd.to_datetime(daily.index)\n",
    "    \n",
    "    return daily"
   ]
  },
  {
   "cell_type": "code",
   "execution_count": 140,
   "metadata": {},
   "outputs": [],
   "source": [
    "def get_initial_vorecast(dailyVolume, ndays=21, fn=np.mean):\n",
    "    assert len(dailyVolume)==ndays, f\"Number of days should be {ndays}, got {len(dailyVolume)}\"\n",
    "    return dailyVolume.agg(fn).transform(np.ceil).values[0]"
   ]
  },
  {
   "cell_type": "code",
   "execution_count": 167,
   "metadata": {},
   "outputs": [],
   "source": [
    "def ALE(forecast, realized):\n",
    "    \"\"\"\n",
    "    Parameters: \n",
    "    forecast (Series): prediction of total daily for every minute\n",
    "    realized (float): realized total daily volume\n",
    "  \n",
    "    Returns: \n",
    "    DataFrame: daily volume indexed by date\n",
    "    \"\"\"\n",
    "    d = forecast - realized\n",
    "    w_fn = lambda x: 1 if x<0 else 2\n",
    "    return np.sum(np.abs(d) * d.apply(w_fn))"
   ]
  },
  {
   "cell_type": "code",
   "execution_count": 172,
   "metadata": {},
   "outputs": [
    {
     "name": "stdout",
     "output_type": "stream",
     "text": [
      "72.08263493232143\n",
      "75.36509740329728\n",
      "329.3193318659596\n"
     ]
    }
   ],
   "source": [
    "dates = np.flip(intraday.date.unique())\n",
    "k0 = 0.2 * rollingWindow\n",
    "\n",
    "for i,dt in enumerate(dates[:-rollingWindow-1]):\n",
    "    df_validate = intraday[intraday.date == dt]\n",
    "    realized_volume = df_validate.volume.sum()\n",
    "    realized_log_volume = np.log(realized_volume)\n",
    "    \n",
    "    train_start_dt, train_end_dt = dates[[i+rollingWindow+1, i+1]]\n",
    "    df_train = intraday[intraday.date.between(train_start_dt, train_end_dt)]\n",
    "    \n",
    "    vc = get_vc(df_train)\n",
    "    nMinutes = len(vc)\n",
    "    \n",
    "    daily = get_daily_volume(df_train)\n",
    "    daily_log_volume_var = daily.volume.var()\n",
    "    \n",
    "    initial_volume_forecast = get_initial_vorecast(daily)\n",
    "    initial_log_volume_forecast = np.log(initial_volume_forecast)    \n",
    "    \n",
    "    realized = df_validate.reset_index().loc[:,['time','volume']].set_index('time')\n",
    "    realized = realized.join(vc)\n",
    "    realized['x'] = np.log(realized.volume/realized.vc)\n",
    "    realized['n'] = np.arange(1,len(realized)+1)\n",
    "    realized['xbar'] = realized.x.expanding().mean()\n",
    "    realized['mu'] = (initial_log_volume_forecast*k0+realized.n*realized.xbar)/(k0+realized.n) \n",
    "    realized['predictedVolume'] = np.ceil(np.exp(realized.mu))\n",
    "    \n",
    "    realized['mu2'] = realized['mu']\n",
    "    realized['sigma_x'] = realized.x.expanding().std()    \n",
    "    realized.loc[realized.n>100, 'mu2'] = (realized.n*realized.xbar/np.power(realized.sigma_x,2) + \\\n",
    "        initial_log_volume_forecast/daily_log_volume_var)/(realized.n/np.power(realized.sigma_x,2) + 2/daily_log_volume_var)\n",
    "    realized['predictedVolume2'] = np.ceil(np.exp(realized.mu2))\n",
    "    \n",
    "    print(ALE(np.log(realized.predictedVolume), realized_log_volume))\n",
    "    print(ALE(np.log(realized.predictedVolume2), realized_log_volume))\n",
    "    print(ALE(pd.Series(np.repeat(initial_log_volume_forecast, nMinutes)), realized_log_volume))\n",
    "    break\n",
    "    "
   ]
  },
  {
   "cell_type": "code",
   "execution_count": 194,
   "metadata": {},
   "outputs": [
    {
     "data": {
      "text/html": [
       "<div>\n",
       "<style scoped>\n",
       "    .dataframe tbody tr th:only-of-type {\n",
       "        vertical-align: middle;\n",
       "    }\n",
       "\n",
       "    .dataframe tbody tr th {\n",
       "        vertical-align: top;\n",
       "    }\n",
       "\n",
       "    .dataframe thead th {\n",
       "        text-align: right;\n",
       "    }\n",
       "</style>\n",
       "<table border=\"1\" class=\"dataframe\">\n",
       "  <thead>\n",
       "    <tr style=\"text-align: right;\">\n",
       "      <th></th>\n",
       "      <th>volume</th>\n",
       "      <th>vc</th>\n",
       "      <th>n</th>\n",
       "    </tr>\n",
       "  </thead>\n",
       "  <tbody>\n",
       "    <tr>\n",
       "      <th>09:30:00</th>\n",
       "      <td>1</td>\n",
       "      <td>2</td>\n",
       "      <td>NaN</td>\n",
       "    </tr>\n",
       "    <tr>\n",
       "      <th>09:31:00</th>\n",
       "      <td>NaN</td>\n",
       "      <td>NaN</td>\n",
       "      <td>NaN</td>\n",
       "    </tr>\n",
       "    <tr>\n",
       "      <th>09:32:00</th>\n",
       "      <td>NaN</td>\n",
       "      <td>NaN</td>\n",
       "      <td>NaN</td>\n",
       "    </tr>\n",
       "    <tr>\n",
       "      <th>09:33:00</th>\n",
       "      <td>NaN</td>\n",
       "      <td>NaN</td>\n",
       "      <td>NaN</td>\n",
       "    </tr>\n",
       "    <tr>\n",
       "      <th>09:34:00</th>\n",
       "      <td>NaN</td>\n",
       "      <td>NaN</td>\n",
       "      <td>NaN</td>\n",
       "    </tr>\n",
       "    <tr>\n",
       "      <th>...</th>\n",
       "      <td>...</td>\n",
       "      <td>...</td>\n",
       "      <td>...</td>\n",
       "    </tr>\n",
       "    <tr>\n",
       "      <th>15:55:00</th>\n",
       "      <td>NaN</td>\n",
       "      <td>NaN</td>\n",
       "      <td>NaN</td>\n",
       "    </tr>\n",
       "    <tr>\n",
       "      <th>15:56:00</th>\n",
       "      <td>NaN</td>\n",
       "      <td>NaN</td>\n",
       "      <td>NaN</td>\n",
       "    </tr>\n",
       "    <tr>\n",
       "      <th>15:57:00</th>\n",
       "      <td>NaN</td>\n",
       "      <td>NaN</td>\n",
       "      <td>NaN</td>\n",
       "    </tr>\n",
       "    <tr>\n",
       "      <th>15:58:00</th>\n",
       "      <td>NaN</td>\n",
       "      <td>NaN</td>\n",
       "      <td>NaN</td>\n",
       "    </tr>\n",
       "    <tr>\n",
       "      <th>15:59:00</th>\n",
       "      <td>NaN</td>\n",
       "      <td>NaN</td>\n",
       "      <td>NaN</td>\n",
       "    </tr>\n",
       "  </tbody>\n",
       "</table>\n",
       "<p>390 rows × 3 columns</p>\n",
       "</div>"
      ],
      "text/plain": [
       "         volume   vc    n\n",
       "09:30:00      1    2  NaN\n",
       "09:31:00    NaN  NaN  NaN\n",
       "09:32:00    NaN  NaN  NaN\n",
       "09:33:00    NaN  NaN  NaN\n",
       "09:34:00    NaN  NaN  NaN\n",
       "...         ...  ...  ...\n",
       "15:55:00    NaN  NaN  NaN\n",
       "15:56:00    NaN  NaN  NaN\n",
       "15:57:00    NaN  NaN  NaN\n",
       "15:58:00    NaN  NaN  NaN\n",
       "15:59:00    NaN  NaN  NaN\n",
       "\n",
       "[390 rows x 3 columns]"
      ]
     },
     "execution_count": 194,
     "metadata": {},
     "output_type": "execute_result"
    }
   ],
   "source": [
    "df = pd.DataFrame(columns=['volume', 'vc', 'n'], index=pd.date_range(\"09:30\", \"15:59\", freq=\"1min\").time)\n",
    "df.loc[pd.to_datetime('09:30:00').time(), ['volume', 'vc']] = (1 ,2)\n",
    "df"
   ]
  }
 ],
 "metadata": {
  "kernelspec": {
   "display_name": "Python 3",
   "language": "python",
   "name": "python3"
  },
  "language_info": {
   "codemirror_mode": {
    "name": "ipython",
    "version": 3
   },
   "file_extension": ".py",
   "mimetype": "text/x-python",
   "name": "python",
   "nbconvert_exporter": "python",
   "pygments_lexer": "ipython3",
   "version": "3.6.9"
  }
 },
 "nbformat": 4,
 "nbformat_minor": 4
}
